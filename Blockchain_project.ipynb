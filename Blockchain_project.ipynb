{
 "cells": [
  {
   "cell_type": "markdown",
   "metadata": {
    "id": "7ZYbESceugp6"
   },
   "source": [
    "**Block chain:**\n",
    "In simple words, Blockchain can be defined as a chain of the block that contains information. The technique is intended to timestamp digital documents so that it's not possible to backdate them or temper them. The blockchain is used for the secure transfer of items like money, property, contracts, etc. without requiring a third-party intermediary like bank or government. Once a data is recorded inside a blockchain, it is very difficult to change it."
   ]
  },
  {
   "cell_type": "code",
   "execution_count": 1,
   "metadata": {
    "id": "d4epVORU1yen"
   },
   "outputs": [],
   "source": [
    "# Project Starts"
   ]
  },
  {
   "cell_type": "markdown",
   "metadata": {
    "id": "qdm2Xb_0unjo"
   },
   "source": [
    "we will be using \"hash function \" to create fingerprints for each transactions , the hash function will link each out block chain to other block . To make this easier to use, we’ll define a helper function to wrap the python hash function that we’re using"
   ]
  },
  {
   "cell_type": "code",
   "execution_count": 2,
   "metadata": {
    "id": "RvHjaARawU3s"
   },
   "outputs": [],
   "source": [
    "import hashlib,json,sys "
   ]
  },
  {
   "cell_type": "code",
   "execution_count": 3,
   "metadata": {
    "id": "SDa5J_7vh5UV"
   },
   "outputs": [],
   "source": [
    "def hashMe(msg=\"\"):\n",
    "    # For convenience, this is a helper function that wraps our hashing algorithm\n",
    "    if type(msg)!=str:\n",
    "        msg = json.dumps(msg,sort_keys=True)  # If we don't sort keys, we can't guarantee repeatability!\n",
    "        \n",
    "    if sys.version_info.major == 2:\n",
    "        return unicode(hashlib.sha256(msg).hexdigest(),'utf-8')\n",
    "    else:\n",
    "        return hashlib.sha256(str(msg).encode('utf-8')).hexdigest()"
   ]
  },
  {
   "cell_type": "markdown",
   "metadata": {
    "id": "u18cErYTutnQ"
   },
   "source": [
    "Next, we want to create a function to generate exchanges between vinny and kinny. We’ll indicate withdrawals with negative numbers, and deposits with positive numbers. We’ll construct our transactions to always be between the two users of our system, and make sure that the deposit is the same magnitude as the withdrawal- i.e. that we’re neither creating nor destroying money."
   ]
  },
  {
   "cell_type": "code",
   "execution_count": 4,
   "metadata": {
    "id": "pUt5Em4ygncH"
   },
   "outputs": [],
   "source": [
    "import random\n",
    "random.seed(0)"
   ]
  },
  {
   "cell_type": "code",
   "execution_count": 5,
   "metadata": {
    "id": "pKBUABulg2XE"
   },
   "outputs": [],
   "source": [
    "def makeTransaction(maxValue=3):\n",
    "    # This will create valid transactions in the range of (1,maxValue)\n",
    "    sign      = int(random.getrandbits(1))*2 - 1   # This will randomly choose -1 or 1\n",
    "    amount    = random.randint(1,maxValue)\n",
    "    vinnyPays = sign * amount\n",
    "    kinnyPays   = -1 * vinnyPays\n",
    "    # By construction, this will always return transactions that respect the conservation of tokens.\n",
    "    # However, note that we have not done anything to check whether these overdraft an account\n",
    "    return {u'Vinny':vinnyPays,u'kinny':kinnyPays}"
   ]
  },
  {
   "cell_type": "markdown",
   "metadata": {
    "id": "ioxHoCtVuy0K"
   },
   "source": [
    "lets create transcations\n"
   ]
  },
  {
   "cell_type": "code",
   "execution_count": 6,
   "metadata": {
    "id": "O5F7VGHlgt3P"
   },
   "outputs": [],
   "source": [
    "txnBuffer = [makeTransaction() for i in range(30)]"
   ]
  },
  {
   "cell_type": "markdown",
   "metadata": {
    "id": "JJVr_gwWu4Nu"
   },
   "source": [
    "Next step: making our very own blocks! We’ll take the first k transactions from the transaction buffer, and turn them into a block. Before we do that, we need to define a method for checking the valididty of the transactions we’ve pulled into the block. For bitcoin, the validation function checks that the input values are valid unspent transaction outputs (UTXOs), that the outputs of the transaction are no greater than the input, and that the keys used for the signatures are valid. In Ethereum, the validation function checks that the smart contracts were faithfully executed and respect gas limits. No worries, though- we don’t have to build a system that complicated. We’ll define our own, very simple set of rules which make sense for a basic token system: The sum of deposits and withdrawals must be 0 (tokens are neither created nor destroyed) A user’s account must have sufficient funds to cover any withdrawals If either of these conditions are violated, we’ll reject the transaction."
   ]
  },
  {
   "cell_type": "code",
   "execution_count": 7,
   "metadata": {
    "id": "MVKwPuG1gxr-"
   },
   "outputs": [],
   "source": [
    "def updateState(txn, state):\n",
    "    # Inputs: txn, state: dictionaries keyed with account names, holding numeric values for transfer amount (txn) or account balance (state)\n",
    "    # Returns: Updated state, with additional users added to state if necessary\n",
    "    # NOTE: This does not not validate the transaction- just updates the state!\n",
    "    \n",
    "    # If the transaction is valid, then update the state\n",
    "    state = state.copy() # As dictionaries are mutable, let's avoid any confusion by creating a working copy of the data.\n",
    "    for key in txn:\n",
    "        if key in state.keys():\n",
    "            state[key] += txn[key]\n",
    "        else:\n",
    "            state[key] = txn[key]\n",
    "    return state"
   ]
  },
  {
   "cell_type": "code",
   "execution_count": 8,
   "metadata": {
    "id": "5mXkXASag6ia"
   },
   "outputs": [],
   "source": [
    "def isValidTxn(txn,state):\n",
    "    # Assume that the transaction is a dictionary keyed by account names\n",
    "\n",
    "    # Check that the sum of the deposits and withdrawals is 0\n",
    "    if sum(txn.values()) != 0:\n",
    "        return False\n",
    "    \n",
    "    # Check that the transaction does not cause an overdraft\n",
    "    for key in txn.keys():\n",
    "        if key in state.keys(): \n",
    "            acctBalance = state[key]\n",
    "        else:\n",
    "            acctBalance = 0\n",
    "        if (acctBalance + txn[key]) < 0:\n",
    "            return False\n",
    "    \n",
    "    return True"
   ]
  },
  {
   "cell_type": "markdown",
   "metadata": {
    "id": "BixldnT6u7ZO"
   },
   "source": [
    "Here are a set of sample transactions, some of which are fraudulent- but we can now check their validity!\n"
   ]
  },
  {
   "cell_type": "code",
   "execution_count": 9,
   "metadata": {
    "colab": {
     "base_uri": "https://localhost:8080/"
    },
    "executionInfo": {
     "elapsed": 7,
     "status": "ok",
     "timestamp": 1627801509179,
     "user": {
      "displayName": "Code Live",
      "photoUrl": "",
      "userId": "01986754595919855601"
     },
     "user_tz": -330
    },
    "id": "KNKC_TLdg9Uh",
    "outputId": "99d0e38f-62fa-4d47-e110-eca6842eb512"
   },
   "outputs": [
    {
     "name": "stdout",
     "output_type": "stream",
     "text": [
      "True\n",
      "False\n",
      "False\n",
      "True\n",
      "False\n"
     ]
    }
   ],
   "source": [
    "state = {u'Vinny':5,u'Kinny':5}\n",
    "\n",
    "print(isValidTxn({u'Vinny': -3, u'Kinny': 3},state))  # Basic transaction- this works great!\n",
    "print(isValidTxn({u'Vinny': -4, u'Kinny': 3},state))  # But we can't create or destroy tokens!\n",
    "print(isValidTxn({u'Vinny': -6, u'Kinny': 6},state))  # We also can't overdraft our account.\n",
    "print(isValidTxn({u'Vinny': -4, u'Kinny': 2,'Lisa':2},state)) # Creating new users is valid\n",
    "print(isValidTxn({u'Vinny': -4, u'Kinny': 3,'Lisa':2},state)) # But the same rules still apply!"
   ]
  },
  {
   "cell_type": "markdown",
   "metadata": {
    "id": "MTNwv9Gju-z3"
   },
   "source": [
    "Each block contains a batch of transactions, a reference to the hash of the previous block (if block number is greater than 1), and a hash of its contents and the header\n"
   ]
  },
  {
   "cell_type": "markdown",
   "metadata": {
    "id": "fkAcXXKDvC00"
   },
   "source": [
    "**Building the Blockchain: From Transactions to Blocks**\n",
    "\n",
    "We’re ready to start making our blockchain! Right now, there’s nothing on the blockchain, but we can get things started by defining the ‘genesis block’ (the first block in the system). Because the genesis block isn’t linked to any prior block, it gets treated a bit differently, and we can arbitrarily set the system state. In our case, we’ll create accounts for our two users (Vinny and Kinny) and give them 50 coins each."
   ]
  },
  {
   "cell_type": "code",
   "execution_count": 10,
   "metadata": {
    "id": "cmDuEJDFhLQK"
   },
   "outputs": [],
   "source": [
    "state = {u'Vinny':50, u'Kinny':50}  # Define the initial state\n",
    "genesisBlockTxns = [state]\n",
    "genesisBlockContents = {u'blockNumber':0,u'parentHash':None,u'txnCount':1,u'txns':genesisBlockTxns}\n",
    "genesisHash = hashMe( genesisBlockContents )\n",
    "genesisBlock = {u'hash':genesisHash,u'contents':genesisBlockContents}\n",
    "genesisBlockStr = json.dumps(genesisBlock, sort_keys=True)"
   ]
  },
  {
   "cell_type": "markdown",
   "metadata": {
    "id": "UddhMJpIvM-R"
   },
   "source": [
    "Great! This becomes the first element from which everything else will be linked.\n"
   ]
  },
  {
   "cell_type": "code",
   "execution_count": 11,
   "metadata": {
    "id": "gPxn2TRXhAUB"
   },
   "outputs": [],
   "source": [
    "chain = [genesisBlock]"
   ]
  },
  {
   "cell_type": "markdown",
   "metadata": {
    "id": "pNcMQskWvPj1"
   },
   "source": [
    "For each block, we want to collect a set of transactions, create a header, hash it, and add it to the chain\n"
   ]
  },
  {
   "cell_type": "code",
   "execution_count": 12,
   "metadata": {
    "id": "pjx7nbZLhHDz"
   },
   "outputs": [],
   "source": [
    "def makeBlock(txns,chain):\n",
    "    parentBlock = chain[-1]\n",
    "    parentHash  = parentBlock[u'hash']\n",
    "    blockNumber = parentBlock[u'contents'][u'blockNumber'] + 1\n",
    "    txnCount    = len(txns)\n",
    "    blockContents = {u'blockNumber':blockNumber,u'parentHash':parentHash,\n",
    "                     u'txnCount':len(txns),'txns':txns}\n",
    "    blockHash = hashMe( blockContents )\n",
    "    block = {u'hash':blockHash,u'contents':blockContents}\n",
    "    \n",
    "    return block"
   ]
  },
  {
   "cell_type": "code",
   "execution_count": 13,
   "metadata": {
    "colab": {
     "base_uri": "https://localhost:8080/"
    },
    "executionInfo": {
     "elapsed": 517,
     "status": "ok",
     "timestamp": 1627801544225,
     "user": {
      "displayName": "Code Live",
      "photoUrl": "",
      "userId": "01986754595919855601"
     },
     "user_tz": -330
    },
    "id": "qefOV1MeiCuC",
    "outputId": "b0633deb-c389-4096-a773-5fb682de04a5"
   },
   "outputs": [
    {
     "name": "stdout",
     "output_type": "stream",
     "text": [
      "ignored transaction\n",
      "ignored transaction\n",
      "ignored transaction\n",
      "ignored transaction\n",
      "ignored transaction\n",
      "ignored transaction\n",
      "ignored transaction\n",
      "ignored transaction\n",
      "ignored transaction\n",
      "ignored transaction\n"
     ]
    }
   ],
   "source": [
    "blockSizeLimit = 5  # Arbitrary number of transactions per block- \n",
    "               #  this is chosen by the block miner, and can vary between blocks!\n",
    "\n",
    "while len(txnBuffer) > 0:\n",
    "    bufferStartSize = len(txnBuffer)\n",
    "    \n",
    "    ## Gather a set of valid transactions for inclusion\n",
    "    txnList = []\n",
    "    while (len(txnBuffer) > 0) & (len(txnList) < blockSizeLimit):\n",
    "        newTxn = txnBuffer.pop()\n",
    "        validTxn = isValidTxn(newTxn,state) # This will return False if txn is invalid\n",
    "        \n",
    "        if validTxn:           # If we got a valid state, not 'False'\n",
    "            txnList.append(newTxn)\n",
    "            state = updateState(newTxn,state)\n",
    "        else:\n",
    "            print(\"ignored transaction\")\n",
    "            sys.stdout.flush()\n",
    "            continue  # This was an invalid transaction; ignore it and move on\n",
    "        \n",
    "    ## Make a block\n",
    "    myBlock = makeBlock(txnList,chain)\n",
    "    chain.append(myBlock)"
   ]
  },
  {
   "cell_type": "code",
   "execution_count": 14,
   "metadata": {
    "colab": {
     "base_uri": "https://localhost:8080/"
    },
    "executionInfo": {
     "elapsed": 641,
     "status": "ok",
     "timestamp": 1627801555910,
     "user": {
      "displayName": "Code Live",
      "photoUrl": "",
      "userId": "01986754595919855601"
     },
     "user_tz": -330
    },
    "id": "GFRYXLIIiGDu",
    "outputId": "919f2e58-3c80-4bab-c08c-b0666760c41a"
   },
   "outputs": [
    {
     "data": {
      "text/plain": [
       "{'hash': 'f5d917ec247c2f95b6ffff5666307c602679ff4bd146aba994e618cd408cdbeb',\n",
       " 'contents': {'blockNumber': 0,\n",
       "  'parentHash': None,\n",
       "  'txnCount': 1,\n",
       "  'txns': [{'Vinny': 50, 'Kinny': 50}]}}"
      ]
     },
     "execution_count": 14,
     "metadata": {},
     "output_type": "execute_result"
    }
   ],
   "source": [
    "chain[0]\n"
   ]
  },
  {
   "cell_type": "code",
   "execution_count": 15,
   "metadata": {
    "colab": {
     "base_uri": "https://localhost:8080/"
    },
    "executionInfo": {
     "elapsed": 716,
     "status": "ok",
     "timestamp": 1627801574636,
     "user": {
      "displayName": "Code Live",
      "photoUrl": "",
      "userId": "01986754595919855601"
     },
     "user_tz": -330
    },
    "id": "kf__IWoxiI6B",
    "outputId": "b38d42cf-9a0a-4d57-e4c9-ff1936f8b985"
   },
   "outputs": [
    {
     "data": {
      "text/plain": [
       "{'hash': 'd83f47669663963fa4f42c4f22f1d0c4f00eadd0b1e40cca42f80643d35505b5',\n",
       " 'contents': {'blockNumber': 1,\n",
       "  'parentHash': 'f5d917ec247c2f95b6ffff5666307c602679ff4bd146aba994e618cd408cdbeb',\n",
       "  'txnCount': 5,\n",
       "  'txns': [{'Vinny': -1, 'kinny': 1},\n",
       "   {'Vinny': -2, 'kinny': 2},\n",
       "   {'Vinny': 3, 'kinny': -3},\n",
       "   {'Vinny': -3, 'kinny': 3},\n",
       "   {'Vinny': -2, 'kinny': 2}]}}"
      ]
     },
     "execution_count": 15,
     "metadata": {},
     "output_type": "execute_result"
    }
   ],
   "source": [
    "chain[1]\n"
   ]
  },
  {
   "cell_type": "code",
   "execution_count": 16,
   "metadata": {
    "colab": {
     "base_uri": "https://localhost:8080/"
    },
    "executionInfo": {
     "elapsed": 654,
     "status": "ok",
     "timestamp": 1627801580510,
     "user": {
      "displayName": "Code Live",
      "photoUrl": "",
      "userId": "01986754595919855601"
     },
     "user_tz": -330
    },
    "id": "ZQ-qzv9IiNc5",
    "outputId": "9946f18f-b119-4bec-c386-31228c079fc2"
   },
   "outputs": [
    {
     "data": {
      "text/plain": [
       "{'hash': '0ea5979b182dcb32c6e3472c277355b1f2c4baf188ba8787d1f03afc1da255ed',\n",
       " 'contents': {'blockNumber': 2,\n",
       "  'parentHash': 'd83f47669663963fa4f42c4f22f1d0c4f00eadd0b1e40cca42f80643d35505b5',\n",
       "  'txnCount': 5,\n",
       "  'txns': [{'Vinny': 1, 'kinny': -1},\n",
       "   {'Vinny': -2, 'kinny': 2},\n",
       "   {'Vinny': 3, 'kinny': -3},\n",
       "   {'Vinny': 1, 'kinny': -1},\n",
       "   {'Vinny': -1, 'kinny': 1}]}}"
      ]
     },
     "execution_count": 16,
     "metadata": {},
     "output_type": "execute_result"
    }
   ],
   "source": [
    "chain[2]"
   ]
  },
  {
   "cell_type": "code",
   "execution_count": 17,
   "metadata": {
    "colab": {
     "base_uri": "https://localhost:8080/"
    },
    "executionInfo": {
     "elapsed": 825,
     "status": "ok",
     "timestamp": 1627801584779,
     "user": {
      "displayName": "Code Live",
      "photoUrl": "",
      "userId": "01986754595919855601"
     },
     "user_tz": -330
    },
    "id": "IKlQV-mHiOqx",
    "outputId": "7e54c202-fa9f-4838-d744-6bb6ec0f8852"
   },
   "outputs": [
    {
     "data": {
      "text/plain": [
       "{'hash': 'f247aeaed6edfc62cad2d390d7ce76fb2798c2d9af20ef482b45d3bcb9c7c3d9',\n",
       " 'contents': {'blockNumber': 3,\n",
       "  'parentHash': '0ea5979b182dcb32c6e3472c277355b1f2c4baf188ba8787d1f03afc1da255ed',\n",
       "  'txnCount': 5,\n",
       "  'txns': [{'Vinny': 1, 'kinny': -1},\n",
       "   {'Vinny': 2, 'kinny': -2},\n",
       "   {'Vinny': -1, 'kinny': 1},\n",
       "   {'Vinny': 1, 'kinny': -1},\n",
       "   {'Vinny': -3, 'kinny': 3}]}}"
      ]
     },
     "execution_count": 17,
     "metadata": {},
     "output_type": "execute_result"
    }
   ],
   "source": [
    "chain[3]"
   ]
  },
  {
   "cell_type": "code",
   "execution_count": 18,
   "metadata": {
    "colab": {
     "base_uri": "https://localhost:8080/"
    },
    "executionInfo": {
     "elapsed": 5,
     "status": "ok",
     "timestamp": 1627801586703,
     "user": {
      "displayName": "Code Live",
      "photoUrl": "",
      "userId": "01986754595919855601"
     },
     "user_tz": -330
    },
    "id": "EvYkkEz9iPt1",
    "outputId": "ca10f537-fd9b-4aaa-b55a-8176298a6da5"
   },
   "outputs": [
    {
     "data": {
      "text/plain": [
       "{'Vinny': 50, 'Kinny': 50, 'kinny': 0}"
      ]
     },
     "execution_count": 18,
     "metadata": {},
     "output_type": "execute_result"
    }
   ],
   "source": [
    "state"
   ]
  },
  {
   "cell_type": "markdown",
   "metadata": {
    "id": "adGvvybcvT4u"
   },
   "source": [
    "**Checking Chain Validity**\n",
    "\n",
    "Now that we know how to create new blocks and link them together into a chain, let’s define functions to check that new blocks are valid- and that the whole chain is valid. On a blockchain network, this becomes important in two ways: When we initially set up our node, we will download the full blockchain history. After downloading the chain, we would need to run through the blockchain to compute the state of the system. To protect against somebody inserting invalid transactions in the initial chain, we need to check the validity of the entire chain in this initial download. Once our node is synced with the network (has an up-to-date copy of the blockchain and a representation of system state) it will need to check the validity of new blocks that are broadcast to the network. We will need three functions to facilitate in this: checkBlockHash: A simple helper function that makes sure that the block contents match the hash checkBlockValidity: Checks the validity of a block, given its parent and the current system state. We want this to return the updated state if the block is valid, and raise an error otherwise. checkChain: Check the validity of the entire chain, and compute the system state beginning at the genesis block. This will return the system state if the chain is valid, and raise an error otherwise."
   ]
  },
  {
   "cell_type": "code",
   "execution_count": 19,
   "metadata": {
    "id": "sRQ3NBbziQZs"
   },
   "outputs": [],
   "source": [
    "def checkBlockHash(block):\n",
    "    # Raise an exception if the hash does not match the block contents\n",
    "    expectedHash = hashMe( block['contents'] )\n",
    "    if block['hash']!=expectedHash:\n",
    "        raise Exception('Hash does not match contents of block %s'%\n",
    "                        block['contents']['blockNumber'])\n",
    "    return"
   ]
  },
  {
   "cell_type": "code",
   "execution_count": 20,
   "metadata": {
    "id": "xB2q3U0BiTbV"
   },
   "outputs": [],
   "source": [
    "def checkBlockValidity(block,parent,state):    \n",
    "    # We want to check the following conditions:\n",
    "    # - Each of the transactions are valid updates to the system state\n",
    "    # - Block hash is valid for the block contents\n",
    "    # - Block number increments the parent block number by 1\n",
    "    # - Accurately references the parent block's hash\n",
    "    parentNumber = parent['contents']['blockNumber']\n",
    "    parentHash   = parent['hash']\n",
    "    blockNumber  = block['contents']['blockNumber']\n",
    "    \n",
    "    # Check transaction validity; throw an error if an invalid transaction was found.\n",
    "    for txn in block['contents']['txns']:\n",
    "        if isValidTxn(txn,state):\n",
    "            state = updateState(txn,state)\n",
    "        else:\n",
    "            raise Exception('Invalid transaction in block %s: %s'%(blockNumber,txn))\n",
    "\n",
    "    checkBlockHash(block) # Check hash integrity; raises error if inaccurate\n",
    "\n",
    "    if blockNumber!=(parentNumber+1):\n",
    "        raise Exception('Hash does not match contents of block %s'%blockNumber)\n",
    "\n",
    "    if block['contents']['parentHash'] != parentHash:\n",
    "        raise Exception('Parent hash not accurate at block %s'%blockNumber)\n",
    "    \n",
    "    return state"
   ]
  },
  {
   "cell_type": "code",
   "execution_count": 21,
   "metadata": {
    "id": "HttBGdT0iWFu"
   },
   "outputs": [],
   "source": [
    "def checkChain(chain):\n",
    "    # Work through the chain from the genesis block (which gets special treatment), \n",
    "    #  checking that all transactions are internally valid,\n",
    "    #    that the transactions do not cause an overdraft,\n",
    "    #    and that the blocks are linked by their hashes.\n",
    "    # This returns the state as a dictionary of accounts and balances,\n",
    "    #   or returns False if an error was detected\n",
    "\n",
    "    \n",
    "    ## Data input processing: Make sure that our chain is a list of dicts\n",
    "    if type(chain)==str:\n",
    "        try:\n",
    "            chain = json.loads(chain)\n",
    "            assert( type(chain)==list)\n",
    "        except:  # This is a catch-all, admittedly crude\n",
    "            return False\n",
    "    elif type(chain)!=list:\n",
    "        return False\n",
    "    \n",
    "    state = {}\n",
    "    ## Prime the pump by checking the genesis block\n",
    "    # We want to check the following conditions:\n",
    "    # - Each of the transactions are valid updates to the system state\n",
    "    # - Block hash is valid for the block contents\n",
    "\n",
    "    for txn in chain[0]['contents']['txns']:\n",
    "        state = updateState(txn,state)\n",
    "    checkBlockHash(chain[0])\n",
    "    parent = chain[0]\n",
    "    \n",
    "    ## Checking subsequent blocks: These additionally need to check\n",
    "    #    - the reference to the parent block's hash\n",
    "    #    - the validity of the block number\n",
    "    for block in chain[1:]:\n",
    "        state = checkBlockValidity(block,parent,state)\n",
    "        parent = block\n",
    "        \n",
    "    return state"
   ]
  },
  {
   "cell_type": "code",
   "execution_count": 22,
   "metadata": {
    "colab": {
     "base_uri": "https://localhost:8080/"
    },
    "executionInfo": {
     "elapsed": 483,
     "status": "ok",
     "timestamp": 1627801631467,
     "user": {
      "displayName": "Code Live",
      "photoUrl": "",
      "userId": "01986754595919855601"
     },
     "user_tz": -330
    },
    "id": "Ogd-F4mtiZYN",
    "outputId": "4c0faf65-1357-46cc-bdc5-119db541922a"
   },
   "outputs": [
    {
     "data": {
      "text/plain": [
       "{'Vinny': 50, 'Kinny': 50, 'kinny': 0}"
      ]
     },
     "execution_count": 22,
     "metadata": {},
     "output_type": "execute_result"
    }
   ],
   "source": [
    "checkChain(chain)\n"
   ]
  },
  {
   "cell_type": "markdown",
   "metadata": {
    "id": "LQskfWiuveek"
   },
   "source": [
    "And even if we are loading the chain from a text file, e.g. from backup or loading it for the first time, we can check the integrity of the chain and create the current state:\n"
   ]
  },
  {
   "cell_type": "code",
   "execution_count": 23,
   "metadata": {
    "colab": {
     "base_uri": "https://localhost:8080/"
    },
    "executionInfo": {
     "elapsed": 417,
     "status": "ok",
     "timestamp": 1627801641304,
     "user": {
      "displayName": "Code Live",
      "photoUrl": "",
      "userId": "01986754595919855601"
     },
     "user_tz": -330
    },
    "id": "dK331xDqibZx",
    "outputId": "98af89ad-a170-478b-d5ab-307f23ba341f"
   },
   "outputs": [
    {
     "data": {
      "text/plain": [
       "{'Kinny': 50, 'Vinny': 50, 'kinny': 0}"
      ]
     },
     "execution_count": 23,
     "metadata": {},
     "output_type": "execute_result"
    }
   ],
   "source": [
    "chainAsText = json.dumps(chain,sort_keys=True)\n",
    "checkChain(chainAsText)"
   ]
  },
  {
   "cell_type": "markdown",
   "metadata": {
    "id": "yM3DOqyhviSm"
   },
   "source": [
    "**Putting it together: The final Blockchain Architecture**\n",
    "\n",
    "In an actual blockchain network, new nodes would download a copy of the blockchain and verify it (as we just did above), then announce their presence on the peer-to-peer network and start listening for transactions. Bundling transactions into a block, they then pass their proposed block on to other nodes. We’ve seen how to verify a copy of the blockchain, and how to bundle transactions into a block. If we recieve a block from somewhere else, verifying it and adding it to our blockchain is easy. Let’s say that the following code runs on Node A, which mines the block:"
   ]
  },
  {
   "cell_type": "code",
   "execution_count": 24,
   "metadata": {
    "id": "46XrlxvPidtV"
   },
   "outputs": [],
   "source": [
    "import copy\n",
    "nodeBchain = copy.copy(chain)\n",
    "nodeBtxns  = [makeTransaction() for i in range(5)]\n",
    "newBlock   = makeBlock(nodeBtxns,nodeBchain)"
   ]
  },
  {
   "cell_type": "markdown",
   "metadata": {
    "id": "QDvv8Cylvp2K"
   },
   "source": [
    "Now assume that the newBlock is transmitted to our node, and we want to check it and update our state if it is a valid block:\n"
   ]
  },
  {
   "cell_type": "code",
   "execution_count": 25,
   "metadata": {
    "colab": {
     "base_uri": "https://localhost:8080/"
    },
    "executionInfo": {
     "elapsed": 468,
     "status": "ok",
     "timestamp": 1627801661471,
     "user": {
      "displayName": "Code Live",
      "photoUrl": "",
      "userId": "01986754595919855601"
     },
     "user_tz": -330
    },
    "id": "hSP2HJAbigf8",
    "outputId": "94b4f598-335d-430c-8d6a-867c346f2472"
   },
   "outputs": [
    {
     "name": "stdout",
     "output_type": "stream",
     "text": [
      "Blockchain on Node A is currently 6 blocks long\n",
      "New Block Received; checking validity...\n",
      "Invalid block; ignoring and waiting for the next block...\n",
      "Blockchain on Node A is now 6 blocks long\n"
     ]
    }
   ],
   "source": [
    "print(\"Blockchain on Node A is currently %s blocks long\"%len(chain))\n",
    "\n",
    "try:\n",
    "    print(\"New Block Received; checking validity...\")\n",
    "    state = checkBlockValidity(newBlock,chain[-1],state) # Update the state- this will throw an error if the block is invalid!\n",
    "    chain.append(newBlock)\n",
    "except:\n",
    "    print(\"Invalid block; ignoring and waiting for the next block...\")\n",
    "\n",
    "print(\"Blockchain on Node A is now %s blocks long\"%len(chain))"
   ]
  },
  {
   "cell_type": "markdown",
   "metadata": {
    "id": "HH66CL-2vtf5"
   },
   "source": [
    "**Conclusions**\n",
    "\n",
    "We’ve created all the basic architecture for a blockchain, from a set of state transition rules to a method for creating blocks, to mechanisms for checking the validity of transactions, blocks, and the full chain. We can derive the system state from a downloaded copy of the blockchain, validate new blocks that we recieve from the network, and create our own blocks. The system state that we’ve created is effectively a distributed ledger or database- the core of many blockchains. We could extend this to include special transaction types or full smart contracts. We haven’t explored the network architecture, the proof-of-work or proof-of-state validation step, and the consensus mechanism which provides blockchains with security against attack. We also haven’t discussed public key cryptography, privacy, and verification steps. More on that in the future!"
   ]
  },
  {
   "cell_type": "code",
   "execution_count": null,
   "metadata": {
    "id": "UuqBGY-kiitI"
   },
   "outputs": [],
   "source": []
  },
  {
   "cell_type": "code",
   "execution_count": null,
   "metadata": {},
   "outputs": [],
   "source": []
  }
 ],
 "metadata": {
  "colab": {
   "collapsed_sections": [],
   "name": "Blockchain_project.ipynb",
   "provenance": []
  },
  "kernelspec": {
   "display_name": "Python 3",
   "language": "python",
   "name": "python3"
  },
  "language_info": {
   "codemirror_mode": {
    "name": "ipython",
    "version": 3
   },
   "file_extension": ".py",
   "mimetype": "text/x-python",
   "name": "python",
   "nbconvert_exporter": "python",
   "pygments_lexer": "ipython3",
   "version": "3.8.8"
  }
 },
 "nbformat": 4,
 "nbformat_minor": 1
}
